{
 "cells": [
  {
   "cell_type": "markdown",
   "id": "1128ab88-36dc-44ad-a4c9-8ee536727f68",
   "metadata": {},
   "source": [
    "### SQL Operations - [Analyzing Startup Ecosystem and Funding Trends in India]"
   ]
  },
  {
   "cell_type": "markdown",
   "id": "0570fe8b-16a1-4fcd-9488-b775134b40b8",
   "metadata": {},
   "source": [
    "######"
   ]
  },
  {
   "cell_type": "markdown",
   "id": "55b6772a-838d-4d00-bf7e-1789418e9116",
   "metadata": {},
   "source": [
    "#### List top 10 most funded startups by total amount"
   ]
  },
  {
   "cell_type": "code",
   "execution_count": null,
   "id": "460e1c81-997b-4557-8840-5ea95cb62661",
   "metadata": {},
   "outputs": [],
   "source": [
    "mysql> SELECT Startup_Name,SUM(Amount_USD) AS Total_Funding\n",
    "       FROM cleaned_startup_funding GROUP BY Startup_Name\n",
    "       ORDER BY Total_Funding DESC LIMIT 10;\n",
    "\n",
    "+------------------+---------------+\n",
    "| Startup_Name     | Total_Funding |\n",
    "+------------------+---------------+\n",
    "| Flipkart         |    4059700000 |\n",
    "| Rapido Bike Taxi |    3900000000 |\n",
    "| Paytm            |    3148950000 |\n",
    "| Ola              |     984500000 |\n",
    "| Udaan            |     870000000 |\n",
    "| Flipkart.com     |     700000000 |\n",
    "| Snapdeal         |     700000000 |\n",
    "| Ola Cabs         |     695495550 |\n",
    "| Oyo Rooms        |     610000000 |\n",
    "| True North       |     600000000 |\n",
    "+------------------+---------------+\n",
    "10 rows in set (0.03 sec)"
   ]
  },
  {
   "cell_type": "markdown",
   "id": "879b5402-ced2-4941-9b4a-485f3a62b69d",
   "metadata": {},
   "source": [
    "*\t*The top-funded startups include Flipkart, Rapido Bike Taxi, Paytm, and Ola.*\n",
    "*\t*These startups are likely attracting large investments due to their high growth potential in their respective industries.*\n",
    "*\t*Businesses that solve large-scale, real-world problems (like e-commerce, mobility, and payments) attract significant funding.*"
   ]
  },
  {
   "cell_type": "markdown",
   "id": "eb3751e3-a4e8-45f3-b8a9-86aa65a0d0f9",
   "metadata": {},
   "source": [
    "######"
   ]
  },
  {
   "cell_type": "markdown",
   "id": "ba5b937d-1ee1-4237-99bf-c33c30c7c64e",
   "metadata": {},
   "source": [
    "#### Identify cities with highest total and average funding"
   ]
  },
  {
   "cell_type": "code",
   "execution_count": null,
   "id": "8a477d7d-b77e-4744-8163-6380d012543d",
   "metadata": {},
   "outputs": [],
   "source": [
    "mysql> SELECT City_Location, SUM(Amount_USD) AS Total_Funding, AVG(Amount_USD AS Average_Funding\n",
    "       FROM cleaned_startup_funding\n",
    "       GROUP BY City_Location ORDER BY Total_Funding DESC;\n",
    "\n",
    "+------------------------+--------------------+--------------------+\n",
    "| City_Location          | Total_Funding      | Average_Funding    |\n",
    "+------------------------+--------------------+--------------------+\n",
    "| Bangalore              |      20950043034.5 |   24589252.3879108 |\n",
    "| Mumbai                 |         6533781413 | 11382894.447735192 |\n",
    "| New Delhi              |         5210819883 | 11230215.265086208 |\n",
    "| Gurgaon                |      4744492954.54 | 14036961.403964497 |\n",
    "| Unknown                | 1887299838.6799998 |  41028257.36260869 |\n",
    "| Noida                  |         1659471299 | 17843777.408602152 |\n",
    "| Chennai                |         1083213843 | 10941553.969696969 |\n",
    "| Pune                   |          989498888 |          8834811.5 |\n",
    "| Hyderabad              |          595856453 |  5899568.841584158 |\n",
    "| Faridabad              |          277795550 |  92598516.66666667 |\n",
    "| Jaipur                 |          250000119 |          8333337.3 |\n",
    "| Tulangan               |          200000000 |          200000000 |\n",
    "| Ahmedabad              |          138330167 |  3373906.512195122 |\n",
    "| San Jose               |          135000000 |          135000000 |\n",
    "| Chandigarh             |          103278439 |            9388949 |\n",
    "| Bhubaneswar            |           48795550 |           24397775 |\n",
    "| Indore                 |           41171341 |  3167026.230769231 |\n",
    "| Surat                  |           37759113 |         18879556.5 |\n",
    "| Kolkata                |           34332356 | 1560561.6363636365 |\n",
    "| Goa                    |           33833776 |          3383377.6 |\n",
    "| Siliguri               |           27324663 |         13662331.5 |\n",
    "| Kochi                  |           27324663 |         13662331.5 |\n",
    "| Udaipur                |           26295550 |           13147775 |\n",
    "| Trivandrum             |           25895550 |           12947775 |\n",
    "| Kozhikode              |           25795550 |           25795550 |\n",
    "| Usa                    |           25795550 |           25795550 |\n",
    "| Us                     |           21129113 |  7043037.666666667 |\n",
    "| Udupi                  |           13529113 |          6764556.5 |\n",
    "| Baroda                 |           12890452 |          1289045.2 |\n",
    "| Gaya                   |            6000000 |            6000000 |\n",
    "| Coimbatore             |            5486713 |          1097342.6 |\n",
    "| Kanpur                 |            3278226 |           819556.5 |\n",
    "| Nagpur                 |            3201226 | 1067075.3333333333 |\n",
    "| Agra                   |            3058226 |            1529113 |\n",
    "| Bengaluru And Gurugram |            3000000 |            3000000 |\n",
    "| Rourkela               |            2500000 |            2500000 |\n",
    "| Bhopal                 |            2330665 |  776888.3333333334 |\n",
    "| Hubli                  |            1529113 |            1529113 |\n",
    "| Karur                  |            1529113 |            1529113 |\n",
    "| Srinagar               |            1529113 |            1529113 |\n",
    "| Lucknow                |            1000000 |            1000000 |\n",
    "| Gwalior                |             900000 |             450000 |\n",
    "| Panaji                 |             825000 |             825000 |\n",
    "| Belgaum                |             500000 |             500000 |\n",
    "| Mussoorie              |             350000 |             350000 |\n",
    "| Amritsar               |             300000 |             300000 |\n",
    "| Jodhpur                |             160000 |             160000 |\n",
    "| Varanasi               |              52000 |              52000 |\n",
    "+------------------------+--------------------+--------------------+\n",
    "48 rows in set (0.01 sec)"
   ]
  },
  {
   "cell_type": "markdown",
   "id": "5206155d-e23d-4322-95eb-3d55fb60ce7e",
   "metadata": {},
   "source": [
    "*   *Bangalore is the city with the highest total funding and the highest average funding , ($20.95B) and ($24.59M) respectively.*\n",
    "*\t*Reason can be that the city houses numerous tech companies, startups, and accelerators, making it a natural magnet for investors and talents.*\n",
    "*\t*Investors might also prefer to fund companies in Bangalore due to its proven track record of nurturing successful startups.*"
   ]
  },
  {
   "cell_type": "markdown",
   "id": "6f69241b-1f24-42bf-b1f5-20b3ebcd6393",
   "metadata": {},
   "source": [
    "######"
   ]
  },
  {
   "cell_type": "markdown",
   "id": "64502d6a-24c1-4444-b8a4-61b3fedc3877",
   "metadata": {},
   "source": [
    "#### Count startups funded each year by investment type"
   ]
  },
  {
   "cell_type": "code",
   "execution_count": null,
   "id": "a8c5c9c9-a6b1-430a-b0fc-0771313cc73a",
   "metadata": {},
   "outputs": [],
   "source": [
    "mysql> SELECT Year AS Funding_Year,Investment_Type, COUNT(DISTINCT Startup_Name) AS Funded_Startups\n",
    "       FROM cleaned_startup_funding\n",
    "       GROUP BY Funding_Year, Investment_Type ORDER BY Funding_Year, Investment_Type;\n",
    "\n",
    "+--------------+-----------------+-----------------+\n",
    "| Funding_Year | Investment_Type | Funded_Startups |\n",
    "+--------------+-----------------+-----------------+\n",
    "|         2015 | Private Equity  |             321 |\n",
    "|         2015 | Seed Funding    |             406 |\n",
    "|         2016 | Private Equity  |             368 |\n",
    "|         2016 | Seed Funding    |             568 |\n",
    "|         2017 | Angel Funding   |               1 |\n",
    "|         2017 | Debt Funding    |              11 |\n",
    "|         2017 | Private Equity  |             332 |\n",
    "|         2017 | Seed Funding    |             300 |\n",
    "|         2018 | Debt Funding    |              11 |\n",
    "|         2018 | Other           |               4 |\n",
    "|         2018 | Pre-Series A    |               3 |\n",
    "|         2018 | Private Equity  |             142 |\n",
    "|         2018 | Seed Funding    |             125 |\n",
    "|         2018 | Series A        |               5 |\n",
    "|         2018 | Series B        |               4 |\n",
    "|         2018 | Series C        |               2 |\n",
    "|         2018 | Series D        |               2 |\n",
    "|         2018 | Series E        |               1 |\n",
    "|         2019 | Angel Funding   |               2 |\n",
    "|         2019 | Debt Funding    |               8 |\n",
    "|         2019 | Other           |               7 |\n",
    "|         2019 | Pre-Series A    |               5 |\n",
    "|         2019 | Private Equity  |               5 |\n",
    "|         2019 | Seed Funding    |              19 |\n",
    "|         2019 | Series A        |              18 |\n",
    "|         2019 | Series B        |              16 |\n",
    "|         2019 | Series C        |               9 |\n",
    "|         2019 | Series D        |              10 |\n",
    "|         2019 | Series E        |               1 |\n",
    "|         2019 | Series F        |               2 |\n",
    "|         2019 | Series G        |               1 |\n",
    "|         2019 | Series H        |               1 |\n",
    "|         2019 | Series J        |               1 |\n",
    "|         2019 | Venture Round   |               4 |\n",
    "|         2020 | Pre-Series A    |               1 |\n",
    "|         2020 | Private Equity  |               2 |\n",
    "|         2020 | Seed Funding    |               1 |\n",
    "|         2020 | Series A        |               1 |\n",
    "|         2020 | Series B        |               1 |\n",
    "|         2020 | Series C        |               1 |\n",
    "+--------------+-----------------+-----------------+\n",
    "40 rows in set (0.03 sec)"
   ]
  },
  {
   "cell_type": "markdown",
   "id": "8aad8a10-b660-4540-8a0e-d245e6d2ac9a",
   "metadata": {},
   "source": [
    "*\t*Seed funding was the most common funding type, especially in 2015-17, but has since decreased.*\n",
    "*\t*Reason can be- in early years, many startups were still in development stage and attracted seed funding to build their products, and establish business models.*\n",
    "*\t*But as these businesses grew and they needed capital for scaling, expansion, and market capture,hence the need for larger rounds (Private Equity, Series A, B, C) became more prominent.*\n"
   ]
  },
  {
   "cell_type": "markdown",
   "id": "89b3bc20-f292-4b27-83f3-e5e78e18caa6",
   "metadata": {},
   "source": [
    "######"
   ]
  },
  {
   "cell_type": "markdown",
   "id": "c01d87a8-a440-433e-8afd-8eba8fc34ae3",
   "metadata": {},
   "source": [
    "#### Find most common combinations of investor and city"
   ]
  },
  {
   "cell_type": "code",
   "execution_count": null,
   "id": "fdc57cb8-3f25-4d1e-8a65-ca5f9e22937e",
   "metadata": {},
   "outputs": [],
   "source": [
    "mysql> SELECT Investors_Name,City_Location,COUNT(*) AS Frequency\n",
    "       FROM cleaned_startup_funding\n",
    "       GROUP BY Investors_Name, City_Location ORDER BY Frequency DESC LIMIT 10;\n",
    "\n",
    "+------------------------+---------------+-----------+\n",
    "| Investors_Name         | City_Location | Frequency |\n",
    "+------------------------+---------------+-----------+\n",
    "| Undisclosed investors  | Bangalore     |        20 |\n",
    "| Undisclosed Investors  | Mumbai        |        19 |\n",
    "| Unknown                | Mumbai        |        10 |\n",
    "| Undisclosed investors  | New Delhi     |        10 |\n",
    "| Indian Angel Network   | New Delhi     |         9 |\n",
    "| Undisclosed investor   | New Delhi     |         9 |\n",
    "| Undisclosed Investors  | Gurgaon       |         6 |\n",
    "| Nexus Venture Partners | Bangalore     |         6 |\n",
    "| SAIF Partners          | Bangalore     |         6 |\n",
    "| Unknown                | Bangalore     |         6 |\n",
    "+------------------------+---------------+-----------+\n",
    "10 rows in set (0.03 sec)"
   ]
  },
  {
   "cell_type": "markdown",
   "id": "52f7b15c-0167-40d3-a9db-c04c93694305",
   "metadata": {},
   "source": [
    "*\t*Most of the investors are Undisclosed, likely due to Confidentiality or privacy reasons.*\n",
    "*\t*Still startups in Bangalore, Mumbai, and New Delhi should be prioritized as these cities attract the most investors.*\n"
   ]
  },
  {
   "cell_type": "markdown",
   "id": "9eb5543d-d816-436c-ae94-0b25dddcca40",
   "metadata": {},
   "source": [
    "######"
   ]
  },
  {
   "cell_type": "markdown",
   "id": "e101a9cd-97b9-4965-b19a-740e079c99bc",
   "metadata": {},
   "source": [
    "#### Identify industries with highest median funding"
   ]
  },
  {
   "cell_type": "code",
   "execution_count": null,
   "id": "fec94dd2-31e9-4b1e-aa86-1dc4a551b8d0",
   "metadata": {},
   "outputs": [],
   "source": [
    "mysql> WITH IndustryFunding AS (\n",
    "       SELECT Industry_Vertical, Amount_USD,\n",
    "       ROW_NUMBER() OVER (PARTITION BY Industry_Vertical ORDER BY Amount_USD) AS RowAsc,\n",
    "       COUNT(*) OVER (PARTITION BY Industry_Vertical) AS TotalCount\n",
    "       FROM cleaned_startup_funding)\n",
    "       SELECT Industry_Vertical, AVG(Amount_USD) AS MedianFunding\n",
    "       FROM IndustryFunding\n",
    "       WHERE RowAsc IN (CASE\n",
    "        WHEN TotalCount % 2 = 1 THEN (TotalCount + 1) / 2\n",
    "        WHEN TotalCount % 2 = 0 THEN (TotalCount / 2) + 1\n",
    "        END)\n",
    "       GROUP BY Industry_Vertical ORDER BY MedianFunding DESC;\n",
    "\n",
    "+-------------------------+---------------+\n",
    "| Industry_Vertical       | MedianFunding |\n",
    "+-------------------------+---------------+\n",
    "| Automation              |     300000000 |\n",
    "| B2B                     |     225000000 |\n",
    "| Hospitality             |     100000000 |\n",
    "| Artificial Intelligence |      38080000 |\n",
    "| SaaS                    |      26000000 |\n",
    "| Analytics               |      11000000 |\n",
    "| FinTech                 |       6000000 |\n",
    "| ECommerce               |       4000000 |\n",
    "| Retail                  |       1600000 |\n",
    "| Consumer Internet       |       1529113 |\n",
    "| EdTech                  |       1529113 |\n",
    "| Healthcare              |       1529113 |\n",
    "| Marketplace             |       1529113 |\n",
    "| Media                   |       1529113 |\n",
    "| Others                  |       1529113 |\n",
    "| Real Estate             |       1529113 |\n",
    "| Services                |       1529113 |\n",
    "| Technology              |       1529113 |\n",
    "| Consumer Goods          |        500000 |\n",
    "+-------------------------+---------------+\n",
    "19 rows in set (0.06 sec)"
   ]
  },
  {
   "cell_type": "markdown",
   "id": "4ab3eab4-0027-42ce-ba1f-4969599f4043",
   "metadata": {},
   "source": [
    "*\t*Automation startups have the highest median funding, at $300M.*\n",
    "*\t*reason can be, that the demand for Automation technologies in industries like manufacturing, logistics, and IT is only increasing, leading to higher investments.*\n",
    "*\t*while looking to launch a startup, focusing on automation, Hospitality, AI, or B2B solutions will likely attract the most attention from investors as these fields are expected to generate long-term value and greater returns.*\n"
   ]
  },
  {
   "cell_type": "markdown",
   "id": "3f180ab8-66ab-4751-b299-a50bf861d53b",
   "metadata": {},
   "source": [
    "######"
   ]
  }
 ],
 "metadata": {
  "kernelspec": {
   "display_name": "Python [conda env:world1]",
   "language": "python",
   "name": "conda-env-world1-py"
  },
  "language_info": {
   "codemirror_mode": {
    "name": "ipython",
    "version": 3
   },
   "file_extension": ".py",
   "mimetype": "text/x-python",
   "name": "python",
   "nbconvert_exporter": "python",
   "pygments_lexer": "ipython3",
   "version": "3.11.9"
  }
 },
 "nbformat": 4,
 "nbformat_minor": 5
}
